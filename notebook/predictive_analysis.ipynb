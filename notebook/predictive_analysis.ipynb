{
 "cells": [
  {
   "cell_type": "markdown",
   "metadata": {},
   "source": [
    "## **Predictive Analysis Plan for the Titanic Dataset**  \n",
    "\n",
    "1. Define the Problem Statement\n",
    "2. Data Preparation for Modeling\n",
    "3. Model Selection\n",
    "4. Model Training & Evaluation\n",
    "5. Hyperparameter Tuning\n",
    "6. Model Comparison & Selection\n",
    "7. Final Model & Predictions\n",
    "8. Model Interpretation & Explainability\n",
    "9. Deployment (Optional)\n"
   ]
  },
  {
   "cell_type": "markdown",
   "metadata": {},
   "source": [
    "### **1. Define the Problem Statement**  \n",
    "- Goal: Predict passenger survival (`Survived` column) using available features.  \n",
    "- Type of problem: Binary Classification (0 = Not Survived, 1 = Survived).  \n",
    "\n",
    "The goal is to build a machine learning model that predicts whether a passenger survived the Titanic disaster based on various features such as age, sex, passenger class, and fare.\n",
    "\n",
    "* Objective:\n",
    "\n",
    "Input: Passenger details (e.g., Age, Sex, Pclass, etc.)\n",
    "Output: Binary prediction — 0 (Did Not Survive) or 1 (Survived)\n",
    "\n",
    "\n",
    "* Key Challenges to Address\n",
    "\n",
    "Imbalanced classes (more non-survivors than survivors).\n",
    "Presence of missing values (e.g., Cabin, Embarked).\n",
    "Potentially correlated features (e.g., Pclass and Fare).\n",
    "Non-linear relationships that might require feature engineering.\n",
    "\n",
    "* Success Criteria (Metrics)\n",
    "\n",
    "Primary Metric: F1 Score (balances precision & recall).\n",
    "Secondary Metrics: Accuracy, ROC-AUC score, and Confusion Matrix for detailed insights."
   ]
  },
  {
   "cell_type": "code",
   "execution_count": 31,
   "metadata": {},
   "outputs": [],
   "source": [
    "# import libraries\n",
    "import pandas as pd\n",
    "import numpy as np\n",
    "import seaborn as sns\n",
    "import matplotlib.pyplot as plt\n",
    "from scipy import stats as stats\n",
    "import time"
   ]
  },
  {
   "cell_type": "code",
   "execution_count": 133,
   "metadata": {},
   "outputs": [],
   "source": [
    "from sklearn.preprocessing import LabelEncoder\n",
    "from sklearn.model_selection import train_test_split, GridSearchCV, RandomizedSearchCV, cross_val_score\n",
    "from sklearn.tree import DecisionTreeClassifier\n",
    "from sklearn.ensemble import RandomForestClassifier, HistGradientBoostingClassifier, AdaBoostClassifier, GradientBoostingClassifier, ExtraTreesClassifier, BaggingClassifier\n",
    "from catboost import CatBoostClassifier\n",
    "from sklearn.linear_model import LogisticRegression, Perceptron, PassiveAggressiveClassifier, RidgeClassifier\n",
    "from sklearn.naive_bayes import GaussianNB\n",
    "from sklearn.neighbors import KNeighborsClassifier\n",
    "from sklearn.svm import SVC\n",
    "from xgboost import XGBClassifier\n",
    "from sklearn.discriminant_analysis import LinearDiscriminantAnalysis, QuadraticDiscriminantAnalysis\n",
    "from sklearn.metrics import accuracy_score, classification_report, confusion_matrix, precision_score, recall_score, f1_score, roc_auc_score"
   ]
  },
  {
   "cell_type": "markdown",
   "metadata": {},
   "source": [
    "### **Get Data**"
   ]
  },
  {
   "cell_type": "code",
   "execution_count": 33,
   "metadata": {},
   "outputs": [
    {
     "data": {
      "text/html": [
       "<div>\n",
       "<style scoped>\n",
       "    .dataframe tbody tr th:only-of-type {\n",
       "        vertical-align: middle;\n",
       "    }\n",
       "\n",
       "    .dataframe tbody tr th {\n",
       "        vertical-align: top;\n",
       "    }\n",
       "\n",
       "    .dataframe thead th {\n",
       "        text-align: right;\n",
       "    }\n",
       "</style>\n",
       "<table border=\"1\" class=\"dataframe\">\n",
       "  <thead>\n",
       "    <tr style=\"text-align: right;\">\n",
       "      <th></th>\n",
       "      <th>PassengerId</th>\n",
       "      <th>Survived</th>\n",
       "      <th>Pclass</th>\n",
       "      <th>Sex_male</th>\n",
       "      <th>Embarked_Q</th>\n",
       "      <th>Embarked_S</th>\n",
       "      <th>Fare_Bin</th>\n",
       "      <th>Age_Bin</th>\n",
       "      <th>Family_Group</th>\n",
       "    </tr>\n",
       "  </thead>\n",
       "  <tbody>\n",
       "    <tr>\n",
       "      <th>0</th>\n",
       "      <td>1</td>\n",
       "      <td>0</td>\n",
       "      <td>3</td>\n",
       "      <td>True</td>\n",
       "      <td>False</td>\n",
       "      <td>True</td>\n",
       "      <td>0</td>\n",
       "      <td>2</td>\n",
       "      <td>1</td>\n",
       "    </tr>\n",
       "    <tr>\n",
       "      <th>1</th>\n",
       "      <td>2</td>\n",
       "      <td>1</td>\n",
       "      <td>1</td>\n",
       "      <td>False</td>\n",
       "      <td>False</td>\n",
       "      <td>False</td>\n",
       "      <td>2</td>\n",
       "      <td>2</td>\n",
       "      <td>1</td>\n",
       "    </tr>\n",
       "    <tr>\n",
       "      <th>2</th>\n",
       "      <td>3</td>\n",
       "      <td>1</td>\n",
       "      <td>3</td>\n",
       "      <td>False</td>\n",
       "      <td>False</td>\n",
       "      <td>True</td>\n",
       "      <td>0</td>\n",
       "      <td>2</td>\n",
       "      <td>0</td>\n",
       "    </tr>\n",
       "    <tr>\n",
       "      <th>3</th>\n",
       "      <td>4</td>\n",
       "      <td>1</td>\n",
       "      <td>1</td>\n",
       "      <td>False</td>\n",
       "      <td>False</td>\n",
       "      <td>True</td>\n",
       "      <td>2</td>\n",
       "      <td>2</td>\n",
       "      <td>1</td>\n",
       "    </tr>\n",
       "    <tr>\n",
       "      <th>4</th>\n",
       "      <td>5</td>\n",
       "      <td>0</td>\n",
       "      <td>3</td>\n",
       "      <td>True</td>\n",
       "      <td>False</td>\n",
       "      <td>True</td>\n",
       "      <td>0</td>\n",
       "      <td>2</td>\n",
       "      <td>0</td>\n",
       "    </tr>\n",
       "  </tbody>\n",
       "</table>\n",
       "</div>"
      ],
      "text/plain": [
       "   PassengerId  Survived  Pclass  Sex_male  Embarked_Q  Embarked_S  Fare_Bin  \\\n",
       "0            1         0       3      True       False        True         0   \n",
       "1            2         1       1     False       False       False         2   \n",
       "2            3         1       3     False       False        True         0   \n",
       "3            4         1       1     False       False        True         2   \n",
       "4            5         0       3      True       False        True         0   \n",
       "\n",
       "   Age_Bin  Family_Group  \n",
       "0        2             1  \n",
       "1        2             1  \n",
       "2        2             0  \n",
       "3        2             1  \n",
       "4        2             0  "
      ]
     },
     "execution_count": 33,
     "metadata": {},
     "output_type": "execute_result"
    }
   ],
   "source": [
    "df = pd.read_csv(\"../data/processed/training_model_ready.csv\")\n",
    "test_df = pd.read_csv(\"../data/processed/testing_model_ready.csv\")\n",
    "df.head()"
   ]
  },
  {
   "cell_type": "code",
   "execution_count": 34,
   "metadata": {},
   "outputs": [
    {
     "data": {
      "text/html": [
       "<div>\n",
       "<style scoped>\n",
       "    .dataframe tbody tr th:only-of-type {\n",
       "        vertical-align: middle;\n",
       "    }\n",
       "\n",
       "    .dataframe tbody tr th {\n",
       "        vertical-align: top;\n",
       "    }\n",
       "\n",
       "    .dataframe thead th {\n",
       "        text-align: right;\n",
       "    }\n",
       "</style>\n",
       "<table border=\"1\" class=\"dataframe\">\n",
       "  <thead>\n",
       "    <tr style=\"text-align: right;\">\n",
       "      <th></th>\n",
       "      <th>PassengerId</th>\n",
       "      <th>Pclass</th>\n",
       "      <th>Sex_male</th>\n",
       "      <th>Embarked_Q</th>\n",
       "      <th>Embarked_S</th>\n",
       "      <th>Fare_Bin</th>\n",
       "      <th>Age_Bin</th>\n",
       "      <th>Family_Group</th>\n",
       "    </tr>\n",
       "  </thead>\n",
       "  <tbody>\n",
       "    <tr>\n",
       "      <th>0</th>\n",
       "      <td>892</td>\n",
       "      <td>3</td>\n",
       "      <td>True</td>\n",
       "      <td>True</td>\n",
       "      <td>False</td>\n",
       "      <td>0</td>\n",
       "      <td>2</td>\n",
       "      <td>0</td>\n",
       "    </tr>\n",
       "    <tr>\n",
       "      <th>1</th>\n",
       "      <td>893</td>\n",
       "      <td>3</td>\n",
       "      <td>False</td>\n",
       "      <td>False</td>\n",
       "      <td>True</td>\n",
       "      <td>0</td>\n",
       "      <td>2</td>\n",
       "      <td>1</td>\n",
       "    </tr>\n",
       "    <tr>\n",
       "      <th>2</th>\n",
       "      <td>894</td>\n",
       "      <td>2</td>\n",
       "      <td>True</td>\n",
       "      <td>True</td>\n",
       "      <td>False</td>\n",
       "      <td>0</td>\n",
       "      <td>3</td>\n",
       "      <td>0</td>\n",
       "    </tr>\n",
       "    <tr>\n",
       "      <th>3</th>\n",
       "      <td>895</td>\n",
       "      <td>3</td>\n",
       "      <td>True</td>\n",
       "      <td>False</td>\n",
       "      <td>True</td>\n",
       "      <td>0</td>\n",
       "      <td>2</td>\n",
       "      <td>0</td>\n",
       "    </tr>\n",
       "    <tr>\n",
       "      <th>4</th>\n",
       "      <td>896</td>\n",
       "      <td>3</td>\n",
       "      <td>False</td>\n",
       "      <td>False</td>\n",
       "      <td>True</td>\n",
       "      <td>1</td>\n",
       "      <td>2</td>\n",
       "      <td>1</td>\n",
       "    </tr>\n",
       "  </tbody>\n",
       "</table>\n",
       "</div>"
      ],
      "text/plain": [
       "   PassengerId  Pclass  Sex_male  Embarked_Q  Embarked_S  Fare_Bin  Age_Bin  \\\n",
       "0          892       3      True        True       False         0        2   \n",
       "1          893       3     False       False        True         0        2   \n",
       "2          894       2      True        True       False         0        3   \n",
       "3          895       3      True       False        True         0        2   \n",
       "4          896       3     False       False        True         1        2   \n",
       "\n",
       "   Family_Group  \n",
       "0             0  \n",
       "1             1  \n",
       "2             0  \n",
       "3             0  \n",
       "4             1  "
      ]
     },
     "execution_count": 34,
     "metadata": {},
     "output_type": "execute_result"
    }
   ],
   "source": [
    "test_df.head()"
   ]
  },
  {
   "cell_type": "code",
   "execution_count": 35,
   "metadata": {},
   "outputs": [
    {
     "name": "stdout",
     "output_type": "stream",
     "text": [
      "<class 'pandas.core.frame.DataFrame'>\n",
      "RangeIndex: 712 entries, 0 to 711\n",
      "Data columns (total 9 columns):\n",
      " #   Column        Non-Null Count  Dtype\n",
      "---  ------        --------------  -----\n",
      " 0   PassengerId   712 non-null    int64\n",
      " 1   Survived      712 non-null    int64\n",
      " 2   Pclass        712 non-null    int64\n",
      " 3   Sex_male      712 non-null    bool \n",
      " 4   Embarked_Q    712 non-null    bool \n",
      " 5   Embarked_S    712 non-null    bool \n",
      " 6   Fare_Bin      712 non-null    int64\n",
      " 7   Age_Bin       712 non-null    int64\n",
      " 8   Family_Group  712 non-null    int64\n",
      "dtypes: bool(3), int64(6)\n",
      "memory usage: 35.6 KB\n"
     ]
    }
   ],
   "source": [
    "# check data types and null values\n",
    "df.info()"
   ]
  },
  {
   "cell_type": "code",
   "execution_count": 36,
   "metadata": {},
   "outputs": [
    {
     "data": {
      "text/html": [
       "<div>\n",
       "<style scoped>\n",
       "    .dataframe tbody tr th:only-of-type {\n",
       "        vertical-align: middle;\n",
       "    }\n",
       "\n",
       "    .dataframe tbody tr th {\n",
       "        vertical-align: top;\n",
       "    }\n",
       "\n",
       "    .dataframe thead th {\n",
       "        text-align: right;\n",
       "    }\n",
       "</style>\n",
       "<table border=\"1\" class=\"dataframe\">\n",
       "  <thead>\n",
       "    <tr style=\"text-align: right;\">\n",
       "      <th></th>\n",
       "      <th>Survived</th>\n",
       "      <th>Pclass</th>\n",
       "      <th>Sex_male</th>\n",
       "      <th>Embarked_Q</th>\n",
       "      <th>Embarked_S</th>\n",
       "      <th>Fare_Bin</th>\n",
       "      <th>Age_Bin</th>\n",
       "      <th>Family_Group</th>\n",
       "    </tr>\n",
       "  </thead>\n",
       "  <tbody>\n",
       "    <tr>\n",
       "      <th>0</th>\n",
       "      <td>0</td>\n",
       "      <td>3</td>\n",
       "      <td>True</td>\n",
       "      <td>False</td>\n",
       "      <td>True</td>\n",
       "      <td>0</td>\n",
       "      <td>2</td>\n",
       "      <td>1</td>\n",
       "    </tr>\n",
       "    <tr>\n",
       "      <th>1</th>\n",
       "      <td>1</td>\n",
       "      <td>1</td>\n",
       "      <td>False</td>\n",
       "      <td>False</td>\n",
       "      <td>False</td>\n",
       "      <td>2</td>\n",
       "      <td>2</td>\n",
       "      <td>1</td>\n",
       "    </tr>\n",
       "    <tr>\n",
       "      <th>2</th>\n",
       "      <td>1</td>\n",
       "      <td>3</td>\n",
       "      <td>False</td>\n",
       "      <td>False</td>\n",
       "      <td>True</td>\n",
       "      <td>0</td>\n",
       "      <td>2</td>\n",
       "      <td>0</td>\n",
       "    </tr>\n",
       "    <tr>\n",
       "      <th>3</th>\n",
       "      <td>1</td>\n",
       "      <td>1</td>\n",
       "      <td>False</td>\n",
       "      <td>False</td>\n",
       "      <td>True</td>\n",
       "      <td>2</td>\n",
       "      <td>2</td>\n",
       "      <td>1</td>\n",
       "    </tr>\n",
       "    <tr>\n",
       "      <th>4</th>\n",
       "      <td>0</td>\n",
       "      <td>3</td>\n",
       "      <td>True</td>\n",
       "      <td>False</td>\n",
       "      <td>True</td>\n",
       "      <td>0</td>\n",
       "      <td>2</td>\n",
       "      <td>0</td>\n",
       "    </tr>\n",
       "  </tbody>\n",
       "</table>\n",
       "</div>"
      ],
      "text/plain": [
       "   Survived  Pclass  Sex_male  Embarked_Q  Embarked_S  Fare_Bin  Age_Bin  \\\n",
       "0         0       3      True       False        True         0        2   \n",
       "1         1       1     False       False       False         2        2   \n",
       "2         1       3     False       False        True         0        2   \n",
       "3         1       1     False       False        True         2        2   \n",
       "4         0       3      True       False        True         0        2   \n",
       "\n",
       "   Family_Group  \n",
       "0             1  \n",
       "1             1  \n",
       "2             0  \n",
       "3             1  \n",
       "4             0  "
      ]
     },
     "execution_count": 36,
     "metadata": {},
     "output_type": "execute_result"
    }
   ],
   "source": [
    "test_passenger_id = test_df.PassengerId\n",
    "test_df.drop(['PassengerId'], axis=1, inplace=True)\n",
    "train_passenger_id = df.PassengerId\n",
    "df.drop(['PassengerId'], axis=1, inplace=True)\n",
    "df.head()"
   ]
  },
  {
   "cell_type": "code",
   "execution_count": 37,
   "metadata": {},
   "outputs": [
    {
     "name": "stdout",
     "output_type": "stream",
     "text": [
      "<class 'pandas.core.frame.DataFrame'>\n",
      "RangeIndex: 712 entries, 0 to 711\n",
      "Data columns (total 8 columns):\n",
      " #   Column        Non-Null Count  Dtype\n",
      "---  ------        --------------  -----\n",
      " 0   Survived      712 non-null    int64\n",
      " 1   Pclass        712 non-null    int64\n",
      " 2   Sex_male      712 non-null    bool \n",
      " 3   Embarked_Q    712 non-null    bool \n",
      " 4   Embarked_S    712 non-null    bool \n",
      " 5   Fare_Bin      712 non-null    int64\n",
      " 6   Age_Bin       712 non-null    int64\n",
      " 7   Family_Group  712 non-null    int64\n",
      "dtypes: bool(3), int64(5)\n",
      "memory usage: 30.0 KB\n"
     ]
    }
   ],
   "source": [
    "df.info()"
   ]
  },
  {
   "cell_type": "markdown",
   "metadata": {},
   "source": [
    "### **Splitting Data**  \n",
    "  - Use `train_test_split()` to create training (80%) and testing (20%) datasets.  \n",
    "  - Consider stratified sampling to maintain class distribution balance.  \n"
   ]
  },
  {
   "cell_type": "code",
   "execution_count": 38,
   "metadata": {},
   "outputs": [],
   "source": [
    "X = df.drop('Survived', axis=1)\n",
    "y = df['Survived']\n",
    "\n",
    "# Split the dataset into training and testing sets, 80:20 ratio\n",
    "X_train, X_test, y_train, y_test = train_test_split(\n",
    "    X, y, test_size=0.2, random_state=42, stratify=y\n",
    ")\n",
    "\n",
    "# stratify=y : Ensures both train and test sets have similar proportions of survivors and non-survivors. \n",
    "# This is crucial since the Titanic dataset has an imbalanced class distribution."
   ]
  },
  {
   "cell_type": "code",
   "execution_count": 39,
   "metadata": {},
   "outputs": [
    {
     "name": "stdout",
     "output_type": "stream",
     "text": [
      "(569, 7) (143, 7)\n",
      "Survived\n",
      "0    0.595782\n",
      "1    0.404218\n",
      "Name: proportion, dtype: float64\n",
      "Survived\n",
      "0    0.594406\n",
      "1    0.405594\n",
      "Name: proportion, dtype: float64\n"
     ]
    }
   ],
   "source": [
    "print(X_train.shape, X_test.shape)\n",
    "print(y_train.value_counts(normalize=True))  # Confirm class balance\n",
    "print(y_test.value_counts(normalize=True))\n",
    "\n",
    "# we use 'normalize' to get values as ratio(s)"
   ]
  },
  {
   "cell_type": "markdown",
   "metadata": {},
   "source": [
    "### **Feature Scaling**  \n",
    "  - Standardize numerical features (`Age`, `Fare`) using `StandardScaler()`.  "
   ]
  },
  {
   "cell_type": "code",
   "execution_count": 40,
   "metadata": {},
   "outputs": [],
   "source": [
    "# scaling is not required. the columns were binned."
   ]
  },
  {
   "cell_type": "markdown",
   "metadata": {},
   "source": [
    "### **3. Model Selection**  \n",
    "- Try multiple algorithms:  \n",
    "  - **Baseline Model**: Logistic Regression  \n",
    "  - **Tree-Based Models**: Decision Tree, Random Forest, XGBoost  \n",
    "  - **Ensemble Methods**: Gradient Boosting, AdaBoost  \n",
    "  - **Advanced Models**: Support Vector Machine (SVM), Neural Networks (optional)  "
   ]
  },
  {
   "cell_type": "markdown",
   "metadata": {},
   "source": [
    "We'll start with models that handle categorical data really well. Then, we'll move to linear models."
   ]
  },
  {
   "cell_type": "markdown",
   "metadata": {},
   "source": [
    "1. Decision Tree\n",
    "2. Random Forest\n",
    "3. CatBoost\n",
    "4. LightGBM\n",
    "5. XGBoost (with enable_categorical=True)\n",
    "5. HistGradientBoostingClassifier (from sklearn with native categorical support)"
   ]
  },
  {
   "cell_type": "markdown",
   "metadata": {},
   "source": [
    "### **4. Model Training & Evaluation**  \n",
    "- **Train models** on the training dataset.  \n",
    "- **Evaluate performance** using:  \n",
    "  - Accuracy, Precision, Recall, F1-score, ROC-AUC curve  \n",
    "  - Confusion Matrix for classification errors  \n",
    "  - Feature Importance (for tree-based models) "
   ]
  },
  {
   "cell_type": "markdown",
   "metadata": {},
   "source": [
    "#### Logistic Regression"
   ]
  },
  {
   "cell_type": "code",
   "execution_count": 87,
   "metadata": {},
   "outputs": [
    {
     "name": "stdout",
     "output_type": "stream",
     "text": [
      "Accuracy: 0.7832167832167832\n",
      "              precision    recall  f1-score   support\n",
      "\n",
      "           0       0.81      0.82      0.82        85\n",
      "           1       0.74      0.72      0.73        58\n",
      "\n",
      "    accuracy                           0.78       143\n",
      "   macro avg       0.78      0.77      0.77       143\n",
      "weighted avg       0.78      0.78      0.78       143\n",
      "\n"
     ]
    }
   ],
   "source": [
    "lr_model = LogisticRegression(max_iter=500, random_state=42)\n",
    "lr_model.fit(X_train, y_train)\n",
    "\n",
    "# Predict\n",
    "y_pred = lr_model.predict(X_test)\n",
    "\n",
    "# Performance Metrics\n",
    "print(\"Accuracy:\", accuracy_score(y_test, y_pred))\n",
    "print(classification_report(y_test, y_pred))"
   ]
  },
  {
   "cell_type": "markdown",
   "metadata": {},
   "source": [
    "#### Decision Trees Classifier"
   ]
  },
  {
   "cell_type": "code",
   "execution_count": 120,
   "metadata": {},
   "outputs": [
    {
     "name": "stdout",
     "output_type": "stream",
     "text": [
      "Accuracy: 0.8181818181818182\n",
      "              precision    recall  f1-score   support\n",
      "\n",
      "           0       0.79      0.95      0.86        85\n",
      "           1       0.90      0.62      0.73        58\n",
      "\n",
      "    accuracy                           0.82       143\n",
      "   macro avg       0.84      0.79      0.80       143\n",
      "weighted avg       0.83      0.82      0.81       143\n",
      "\n"
     ]
    }
   ],
   "source": [
    "dt_model = DecisionTreeClassifier(max_depth=7, min_samples_leaf=2, min_samples_split=12, random_state=42) #, class_weight='balanced')\n",
    "dt_model.fit(X_train, y_train)\n",
    "\n",
    "y_pred = dt_model.predict(X_test)\n",
    "\n",
    "# Performance Metrics\n",
    "\n",
    "print(\"Accuracy:\", accuracy_score(y_test, y_pred))\n",
    "print(classification_report(y_test, y_pred))"
   ]
  },
  {
   "cell_type": "markdown",
   "metadata": {},
   "source": [
    "#### Random Forest"
   ]
  },
  {
   "cell_type": "code",
   "execution_count": 89,
   "metadata": {},
   "outputs": [
    {
     "name": "stdout",
     "output_type": "stream",
     "text": [
      "Accuracy: 0.8041958041958042\n",
      "              precision    recall  f1-score   support\n",
      "\n",
      "           0       0.81      0.87      0.84        85\n",
      "           1       0.79      0.71      0.75        58\n",
      "\n",
      "    accuracy                           0.80       143\n",
      "   macro avg       0.80      0.79      0.79       143\n",
      "weighted avg       0.80      0.80      0.80       143\n",
      "\n"
     ]
    }
   ],
   "source": [
    "rf_model = RandomForestClassifier(\n",
    "    n_estimators=150,\n",
    "    max_depth=8,\n",
    "    min_samples_leaf=2,\n",
    "    min_samples_split=10,\n",
    "    random_state=42\n",
    ")\n",
    "rf_model.fit(X_train, y_train)\n",
    "y_pred = rf_model.predict(X_test)\n",
    "\n",
    "# Performance Metrics\n",
    "print(\"Accuracy:\", accuracy_score(y_test, y_pred))\n",
    "print(classification_report(y_test, y_pred))"
   ]
  },
  {
   "cell_type": "markdown",
   "metadata": {},
   "source": [
    "#### XGB Classifier"
   ]
  },
  {
   "cell_type": "code",
   "execution_count": 91,
   "metadata": {},
   "outputs": [
    {
     "name": "stdout",
     "output_type": "stream",
     "text": [
      "Accuracy: 0.8041958041958042\n",
      "              precision    recall  f1-score   support\n",
      "\n",
      "           0       0.81      0.88      0.84        85\n",
      "           1       0.80      0.69      0.74        58\n",
      "\n",
      "    accuracy                           0.80       143\n",
      "   macro avg       0.80      0.79      0.79       143\n",
      "weighted avg       0.80      0.80      0.80       143\n",
      "\n"
     ]
    }
   ],
   "source": [
    "xgb_model = XGBClassifier(\n",
    "    n_estimators=100,\n",
    "    max_depth=4,\n",
    "    learning_rate=0.1,\n",
    "    eval_metric='logloss',\n",
    "    random_state=42\n",
    ")\n",
    "xgb_model.fit(X_train, y_train)\n",
    "y_pred = xgb_model.predict(X_test)\\\n",
    "\n",
    "# Performance Metrics\n",
    "print(\"Accuracy:\", accuracy_score(y_test, y_pred))\n",
    "print(classification_report(y_test, y_pred))"
   ]
  },
  {
   "cell_type": "markdown",
   "metadata": {},
   "source": [
    "#### SVM"
   ]
  },
  {
   "cell_type": "code",
   "execution_count": 118,
   "metadata": {},
   "outputs": [
    {
     "name": "stdout",
     "output_type": "stream",
     "text": [
      "Accuracy: 0.8181818181818182\n",
      "              precision    recall  f1-score   support\n",
      "\n",
      "           0       0.80      0.93      0.86        85\n",
      "           1       0.86      0.66      0.75        58\n",
      "\n",
      "    accuracy                           0.82       143\n",
      "   macro avg       0.83      0.79      0.80       143\n",
      "weighted avg       0.82      0.82      0.81       143\n",
      "\n"
     ]
    }
   ],
   "source": [
    "svm_model = SVC(kernel='rbf', probability=True, random_state=42)\n",
    "svm_model.fit(X_train, y_train)\n",
    "y_pred = svm_model.predict(X_test)\n",
    "\n",
    "# Performance Metrics\n",
    "print(\"Accuracy:\", accuracy_score(y_test, y_pred))\n",
    "print(classification_report(y_test, y_pred))"
   ]
  },
  {
   "cell_type": "markdown",
   "metadata": {},
   "source": [
    "#### K-NN"
   ]
  },
  {
   "cell_type": "code",
   "execution_count": 96,
   "metadata": {},
   "outputs": [
    {
     "name": "stdout",
     "output_type": "stream",
     "text": [
      "Accuracy: 0.7902097902097902\n",
      "              precision    recall  f1-score   support\n",
      "\n",
      "           0       0.80      0.86      0.83        85\n",
      "           1       0.77      0.69      0.73        58\n",
      "\n",
      "    accuracy                           0.79       143\n",
      "   macro avg       0.79      0.77      0.78       143\n",
      "weighted avg       0.79      0.79      0.79       143\n",
      "\n"
     ]
    }
   ],
   "source": [
    "knn_model = KNeighborsClassifier(n_neighbors=5)\n",
    "knn_model.fit(X_train, y_train)\n",
    "y_pred = knn_model.predict(X_test)\n",
    "\n",
    "# Performance Metrics\n",
    "print(\"Accuracy:\", accuracy_score(y_test, y_pred))\n",
    "print(classification_report(y_test, y_pred))"
   ]
  },
  {
   "cell_type": "markdown",
   "metadata": {},
   "source": [
    "#### HistGradient Boost"
   ]
  },
  {
   "cell_type": "code",
   "execution_count": 97,
   "metadata": {},
   "outputs": [
    {
     "name": "stdout",
     "output_type": "stream",
     "text": [
      "Accuracy: 0.8041958041958042\n",
      "              precision    recall  f1-score   support\n",
      "\n",
      "           0       0.81      0.87      0.84        85\n",
      "           1       0.79      0.71      0.75        58\n",
      "\n",
      "    accuracy                           0.80       143\n",
      "   macro avg       0.80      0.79      0.79       143\n",
      "weighted avg       0.80      0.80      0.80       143\n",
      "\n"
     ]
    }
   ],
   "source": [
    "hgb = HistGradientBoostingClassifier(max_iter=200, learning_rate=0.1, random_state=42)\n",
    "hgb.fit(X_train, y_train)\n",
    "y_pred = hgb.predict(X_test)\n",
    "\n",
    "# Performance Metrics\n",
    "print(\"Accuracy:\", accuracy_score(y_test, y_pred))\n",
    "print(classification_report(y_test, y_pred))"
   ]
  },
  {
   "cell_type": "markdown",
   "metadata": {},
   "source": [
    "#### CatBoost Classifier"
   ]
  },
  {
   "cell_type": "code",
   "execution_count": 106,
   "metadata": {},
   "outputs": [
    {
     "name": "stdout",
     "output_type": "stream",
     "text": [
      "Accuracy: 0.7972027972027972\n",
      "              precision    recall  f1-score   support\n",
      "\n",
      "           0       0.79      0.89      0.84        85\n",
      "           1       0.81      0.66      0.72        58\n",
      "\n",
      "    accuracy                           0.80       143\n",
      "   macro avg       0.80      0.77      0.78       143\n",
      "weighted avg       0.80      0.80      0.79       143\n",
      "\n"
     ]
    }
   ],
   "source": [
    "cat = CatBoostClassifier(verbose=0, iterations=200, learning_rate=0.01, depth=6, random_seed=42)\n",
    "cat.fit(X_train, y_train)\n",
    "y_pred = cat.predict(X_test)\n",
    "\n",
    "print(\"Accuracy:\", accuracy_score(y_test, y_pred))\n",
    "print(classification_report(y_test, y_pred))"
   ]
  },
  {
   "cell_type": "markdown",
   "metadata": {},
   "source": [
    "#### Extra-Trees Classifier"
   ]
  },
  {
   "cell_type": "code",
   "execution_count": 111,
   "metadata": {},
   "outputs": [
    {
     "name": "stdout",
     "output_type": "stream",
     "text": [
      "Accuracy: 0.7832167832167832\n",
      "              precision    recall  f1-score   support\n",
      "\n",
      "           0       0.78      0.89      0.83        85\n",
      "           1       0.80      0.62      0.70        58\n",
      "\n",
      "    accuracy                           0.78       143\n",
      "   macro avg       0.79      0.76      0.76       143\n",
      "weighted avg       0.79      0.78      0.78       143\n",
      "\n"
     ]
    }
   ],
   "source": [
    "et = ExtraTreesClassifier(n_estimators=100, max_depth=7, random_state=42)\n",
    "et.fit(X_train, y_train)\n",
    "y_pred = et.predict(X_test)\n",
    "\n",
    "print(\"Accuracy:\", accuracy_score(y_test, y_pred))\n",
    "print(classification_report(y_test, y_pred))"
   ]
  },
  {
   "cell_type": "markdown",
   "metadata": {},
   "source": [
    "#### BaggingClassifier (with DecisionTree base by default)"
   ]
  },
  {
   "cell_type": "code",
   "execution_count": 114,
   "metadata": {},
   "outputs": [
    {
     "name": "stdout",
     "output_type": "stream",
     "text": [
      "Accuracy: 0.7832167832167832\n",
      "              precision    recall  f1-score   support\n",
      "\n",
      "           0       0.81      0.82      0.82        85\n",
      "           1       0.74      0.72      0.73        58\n",
      "\n",
      "    accuracy                           0.78       143\n",
      "   macro avg       0.78      0.77      0.77       143\n",
      "weighted avg       0.78      0.78      0.78       143\n",
      "\n"
     ]
    }
   ],
   "source": [
    "bag = BaggingClassifier(n_estimators=100, max_samples=0.8, random_state=42)\n",
    "bag.fit(X_train, y_train)\n",
    "y_pred = bag.predict(X_test)\n",
    "\n",
    "print(\"Accuracy:\", accuracy_score(y_test, y_pred))\n",
    "print(classification_report(y_test, y_pred))"
   ]
  },
  {
   "cell_type": "markdown",
   "metadata": {},
   "source": [
    "#### Ridge Classifier"
   ]
  },
  {
   "cell_type": "code",
   "execution_count": 115,
   "metadata": {},
   "outputs": [
    {
     "name": "stdout",
     "output_type": "stream",
     "text": [
      "Accuracy: 0.7972027972027972\n",
      "              precision    recall  f1-score   support\n",
      "\n",
      "           0       0.82      0.85      0.83        85\n",
      "           1       0.76      0.72      0.74        58\n",
      "\n",
      "    accuracy                           0.80       143\n",
      "   macro avg       0.79      0.79      0.79       143\n",
      "weighted avg       0.80      0.80      0.80       143\n",
      "\n"
     ]
    }
   ],
   "source": [
    "ridge = RidgeClassifier(alpha=1.0, random_state=42)\n",
    "ridge.fit(X_train, y_train)\n",
    "y_pred = ridge.predict(X_test)\n",
    "\n",
    "print(\"Accuracy:\", accuracy_score(y_test, y_pred))\n",
    "print(classification_report(y_test, y_pred))"
   ]
  },
  {
   "cell_type": "markdown",
   "metadata": {},
   "source": [
    "#### Naive Bayes"
   ]
  },
  {
   "cell_type": "code",
   "execution_count": 116,
   "metadata": {},
   "outputs": [
    {
     "name": "stdout",
     "output_type": "stream",
     "text": [
      "Accuracy: 0.7552447552447552\n",
      "              precision    recall  f1-score   support\n",
      "\n",
      "           0       0.82      0.75      0.79        85\n",
      "           1       0.68      0.76      0.72        58\n",
      "\n",
      "    accuracy                           0.76       143\n",
      "   macro avg       0.75      0.76      0.75       143\n",
      "weighted avg       0.76      0.76      0.76       143\n",
      "\n"
     ]
    }
   ],
   "source": [
    "nb = GaussianNB()\n",
    "nb.fit(X_train, y_train)\n",
    "y_pred = nb.predict(X_test)\n",
    "\n",
    "print(\"Accuracy:\", accuracy_score(y_test, y_pred))\n",
    "print(classification_report(y_test, y_pred))"
   ]
  },
  {
   "cell_type": "code",
   "execution_count": 121,
   "metadata": {},
   "outputs": [
    {
     "data": {
      "image/png": "[encoded data removed]",
      "text/plain": [
       "<Figure size 600x400 with 2 Axes>"
      ]
     },
     "metadata": {},
     "output_type": "display_data"
    }
   ],
   "source": [
    "# Confusion Matrix\n",
    "plt.figure(figsize=(6,4))\n",
    "sns.heatmap(confusion_matrix(y_test, y_pred), annot=True, fmt='d', cmap='Blues')\n",
    "plt.xlabel('Predicted')\n",
    "plt.ylabel('Actual')\n",
    "plt.title('Decision Tree Confusion Matrix')\n",
    "plt.show()"
   ]
  },
  {
   "cell_type": "markdown",
   "metadata": {},
   "source": [
    "### **5. Hyperparameter Tuning**  \n",
    "- Use **GridSearchCV** or **RandomizedSearchCV** to optimize models.  "
   ]
  },
  {
   "cell_type": "markdown",
   "metadata": {},
   "source": [
    "#### Logistic Regression"
   ]
  },
  {
   "cell_type": "code",
   "execution_count": 122,
   "metadata": {},
   "outputs": [
    {
     "name": "stdout",
     "output_type": "stream",
     "text": [
      "Best Parameters: {'C': 10, 'penalty': 'l2', 'solver': 'lbfgs'}\n",
      "Accuracy: 0.7762237762237763\n",
      "              precision    recall  f1-score   support\n",
      "\n",
      "           0       0.80      0.82      0.81        85\n",
      "           1       0.73      0.71      0.72        58\n",
      "\n",
      "    accuracy                           0.78       143\n",
      "   macro avg       0.77      0.77      0.77       143\n",
      "weighted avg       0.78      0.78      0.78       143\n",
      "\n"
     ]
    }
   ],
   "source": [
    "# Hyperparameter grid\n",
    "param_grid = {\n",
    "    'C': [0.01, 0.1, 1, 10, 100],\n",
    "    'penalty': ['l2'],\n",
    "    'solver': ['lbfgs', 'liblinear']\n",
    "}\n",
    "\n",
    "grid = GridSearchCV(LogisticRegression(max_iter=1000), param_grid, cv=5, scoring='accuracy')\n",
    "grid.fit(X_train, y_train)\n",
    "\n",
    "print(\"Best Parameters:\", grid.best_params_)\n",
    "\n",
    "# Evaluate\n",
    "best_logreg = grid.best_estimator_\n",
    "y_pred = best_logreg.predict(X_test)\n",
    "\n",
    "print(\"Accuracy:\", accuracy_score(y_test, y_pred))\n",
    "print(classification_report(y_test, y_pred))\n"
   ]
  },
  {
   "cell_type": "markdown",
   "metadata": {},
   "source": [
    "#### KNN"
   ]
  },
  {
   "cell_type": "code",
   "execution_count": 126,
   "metadata": {},
   "outputs": [
    {
     "name": "stdout",
     "output_type": "stream",
     "text": [
      "Best Parameters: {'metric': 'euclidean', 'n_neighbors': 11, 'weights': 'distance'}\n",
      "Accuracy: 0.7552447552447552\n",
      "              precision    recall  f1-score   support\n",
      "\n",
      "           0       0.76      0.86      0.81        85\n",
      "           1       0.74      0.60      0.67        58\n",
      "\n",
      "    accuracy                           0.76       143\n",
      "   macro avg       0.75      0.73      0.74       143\n",
      "weighted avg       0.75      0.76      0.75       143\n",
      "\n"
     ]
    }
   ],
   "source": [
    "param_grid = {\n",
    "    'n_neighbors': [3, 5, 7, 8, 9, 11],\n",
    "    'weights': ['uniform', 'distance'],\n",
    "    'metric': ['euclidean', 'manhattan']\n",
    "}\n",
    "\n",
    "grid = GridSearchCV(KNeighborsClassifier(), param_grid, cv=5, scoring='accuracy')\n",
    "grid.fit(X_train, y_train)\n",
    "\n",
    "print(\"Best Parameters:\", grid.best_params_)\n",
    "\n",
    "best_knn = grid.best_estimator_\n",
    "y_pred = best_knn.predict(X_test)\n",
    "\n",
    "print(\"Accuracy:\", accuracy_score(y_test, y_pred))\n",
    "print(classification_report(y_test, y_pred))"
   ]
  },
  {
   "cell_type": "markdown",
   "metadata": {},
   "source": [
    "#### Random Forest"
   ]
  },
  {
   "cell_type": "code",
   "execution_count": 129,
   "metadata": {},
   "outputs": [
    {
     "name": "stdout",
     "output_type": "stream",
     "text": [
      "RF Best Params: {'bootstrap': False, 'max_depth': 5, 'min_samples_split': 2, 'n_estimators': 150}\n",
      "Accuracy: 0.7972027972027972\n",
      "              precision    recall  f1-score   support\n",
      "\n",
      "           0       0.79      0.89      0.84        85\n",
      "           1       0.81      0.66      0.72        58\n",
      "\n",
      "    accuracy                           0.80       143\n",
      "   macro avg       0.80      0.77      0.78       143\n",
      "weighted avg       0.80      0.80      0.79       143\n",
      "\n"
     ]
    }
   ],
   "source": [
    "param_grid = {\n",
    "    'n_estimators': [100, 150, 200],\n",
    "    'max_depth': [None, 5, 7, 8, 9, 10],\n",
    "    'min_samples_split': [2, 5],\n",
    "    'bootstrap': [True, False]\n",
    "}\n",
    "grid = GridSearchCV(RandomForestClassifier(random_state=42), param_grid, cv=5, scoring='accuracy')\n",
    "grid.fit(X_train, y_train)\n",
    "\n",
    "print(\"RF Best Params:\", grid.best_params_)\n",
    "y_pred = grid.best_estimator_.predict(X_test)\n",
    "print(\"Accuracy:\", accuracy_score(y_test, y_pred))\n",
    "print(classification_report(y_test, y_pred))"
   ]
  },
  {
   "cell_type": "markdown",
   "metadata": {},
   "source": [
    "#### Extra Trees"
   ]
  },
  {
   "cell_type": "code",
   "execution_count": null,
   "metadata": {},
   "outputs": [
    {
     "name": "stdout",
     "output_type": "stream",
     "text": [
      "ETC Best Params: {'bootstrap': True, 'max_depth': 10, 'min_samples_split': 2, 'n_estimators': 100}\n",
      "Accuracy: 0.7762237762237763\n",
      "              precision    recall  f1-score   support\n",
      "\n",
      "           0       0.79      0.85      0.82        85\n",
      "           1       0.75      0.67      0.71        58\n",
      "\n",
      "    accuracy                           0.78       143\n",
      "   macro avg       0.77      0.76      0.76       143\n",
      "weighted avg       0.77      0.78      0.77       143\n",
      "\n"
     ]
    }
   ],
   "source": [
    "param_grid = {\n",
    "    'n_estimators': [50, 100, 200],\n",
    "    'max_depth': [None, 5, 10],\n",
    "    'min_samples_split': [2, 5],\n",
    "    'bootstrap': [True, False]\n",
    "}\n",
    "grid = GridSearchCV(ExtraTreesClassifier(random_state=42), param_grid, cv=5, scoring='accuracy')\n",
    "grid.fit(X_train, y_train)\n",
    "\n",
    "print(\"ETC Best Params:\", grid.best_params_)\n",
    "y_pred = grid.best_estimator_.predict(X_test)\n",
    "print(\"Accuracy:\", accuracy_score(y_test, y_pred))\n",
    "print(classification_report(y_test, y_pred))"
   ]
  },
  {
   "cell_type": "markdown",
   "metadata": {},
   "source": [
    "#### Bagging Classifier"
   ]
  },
  {
   "cell_type": "code",
   "execution_count": null,
   "metadata": {},
   "outputs": [
    {
     "name": "stdout",
     "output_type": "stream",
     "text": [
      "Bagging Best Params: {'bootstrap': True, 'max_samples': 0.7, 'n_estimators': 10}\n",
      "Accuracy: 0.7622377622377622\n",
      "              precision    recall  f1-score   support\n",
      "\n",
      "           0       0.79      0.81      0.80        85\n",
      "           1       0.71      0.69      0.70        58\n",
      "\n",
      "    accuracy                           0.76       143\n",
      "   macro avg       0.75      0.75      0.75       143\n",
      "weighted avg       0.76      0.76      0.76       143\n",
      "\n"
     ]
    }
   ],
   "source": [
    "param_grid = {\n",
    "    'n_estimators': [10, 50, 100],\n",
    "    'max_samples': [0.5, 0.7, 1.0],\n",
    "    'bootstrap': [True, False]\n",
    "}\n",
    "grid = GridSearchCV(BaggingClassifier(random_state=42), param_grid, cv=5, scoring='accuracy')\n",
    "grid.fit(X_train, y_train)\n",
    "\n",
    "print(\"Bagging Best Params:\", grid.best_params_)\n",
    "y_pred = grid.best_estimator_.predict(X_test)\n",
    "print(\"Accuracy:\", accuracy_score(y_test, y_pred))\n",
    "print(classification_report(y_test, y_pred))"
   ]
  },
  {
   "cell_type": "markdown",
   "metadata": {},
   "source": [
    "#### HGB Classifier"
   ]
  },
  {
   "cell_type": "code",
   "execution_count": null,
   "metadata": {},
   "outputs": [
    {
     "name": "stdout",
     "output_type": "stream",
     "text": [
      "HGB Best Params: {'max_iter': 300, 'max_depth': None, 'learning_rate': 0.1}\n",
      "Accuracy: 0.7972027972027972\n",
      "              precision    recall  f1-score   support\n",
      "\n",
      "           0       0.81      0.86      0.83        85\n",
      "           1       0.77      0.71      0.74        58\n",
      "\n",
      "    accuracy                           0.80       143\n",
      "   macro avg       0.79      0.78      0.79       143\n",
      "weighted avg       0.80      0.80      0.80       143\n",
      "\n"
     ]
    }
   ],
   "source": [
    "param_dist = {\n",
    "    'max_iter': [100, 200, 300],\n",
    "    'learning_rate': [0.01, 0.1, 0.2],\n",
    "    'max_depth': [None, 5, 10]\n",
    "}\n",
    "grid = RandomizedSearchCV(HistGradientBoostingClassifier(random_state=42), param_distributions=param_dist, n_iter=10, cv=5, scoring='accuracy', random_state=42)\n",
    "grid.fit(X_train, y_train)\n",
    "\n",
    "print(\"HGB Best Params:\", grid.best_params_)\n",
    "y_pred = grid.best_estimator_.predict(X_test)\n",
    "print(\"Accuracy:\", accuracy_score(y_test, y_pred))\n",
    "print(classification_report(y_test, y_pred))"
   ]
  },
  {
   "cell_type": "markdown",
   "metadata": {},
   "source": [
    "#### CatBoost"
   ]
  },
  {
   "cell_type": "code",
   "execution_count": 135,
   "metadata": {},
   "outputs": [
    {
     "name": "stdout",
     "output_type": "stream",
     "text": [
      "CatBoost Best Params: {'learning_rate': 0.01, 'iterations': 200, 'depth': 8}\n",
      "Accuracy: 0.7972027972027972\n",
      "              precision    recall  f1-score   support\n",
      "\n",
      "           0       0.79      0.89      0.84        85\n",
      "           1       0.81      0.66      0.72        58\n",
      "\n",
      "    accuracy                           0.80       143\n",
      "   macro avg       0.80      0.77      0.78       143\n",
      "weighted avg       0.80      0.80      0.79       143\n",
      "\n"
     ]
    }
   ],
   "source": [
    "param_dist = {\n",
    "    'depth': [4, 6, 8, 10],\n",
    "    'learning_rate': [0.01, 0.05, 0.1],\n",
    "    'iterations': [100, 200, 300]\n",
    "}\n",
    "grid = RandomizedSearchCV(CatBoostClassifier(verbose=0, random_state=42), param_distributions=param_dist, n_iter=10, cv=5, scoring='accuracy', random_state=42)\n",
    "grid.fit(X_train, y_train)\n",
    "\n",
    "print(\"CatBoost Best Params:\", grid.best_params_)\n",
    "y_pred = grid.best_estimator_.predict(X_test)\n",
    "print(\"Accuracy:\", accuracy_score(y_test, y_pred))\n",
    "print(classification_report(y_test, y_pred))"
   ]
  },
  {
   "cell_type": "markdown",
   "metadata": {},
   "source": [
    "#### Decision Trees"
   ]
  },
  {
   "cell_type": "code",
   "execution_count": 127,
   "metadata": {},
   "outputs": [
    {
     "name": "stdout",
     "output_type": "stream",
     "text": [
      "DT Best Params: {'criterion': 'entropy', 'max_depth': 5, 'min_samples_split': 5}\n",
      "Accuracy: 0.7902097902097902\n",
      "              precision    recall  f1-score   support\n",
      "\n",
      "           0       0.76      0.94      0.84        85\n",
      "           1       0.87      0.57      0.69        58\n",
      "\n",
      "    accuracy                           0.79       143\n",
      "   macro avg       0.82      0.76      0.76       143\n",
      "weighted avg       0.81      0.79      0.78       143\n",
      "\n"
     ]
    }
   ],
   "source": [
    "param_grid = {\n",
    "    'max_depth': [None, 5, 7, 8, 9, 10, 15],\n",
    "    'min_samples_split': [2, 5, 10],\n",
    "    'criterion': ['gini', 'entropy']\n",
    "}\n",
    "grid = GridSearchCV(DecisionTreeClassifier(), param_grid, cv=5, scoring='accuracy')\n",
    "grid.fit(X_train, y_train)\n",
    "\n",
    "print(\"DT Best Params:\", grid.best_params_)\n",
    "y_pred = grid.best_estimator_.predict(X_test)\n",
    "print(\"Accuracy:\", accuracy_score(y_test, y_pred))\n",
    "print(classification_report(y_test, y_pred))\n"
   ]
  },
  {
   "cell_type": "markdown",
   "metadata": {},
   "source": [
    "#### Ridge"
   ]
  },
  {
   "cell_type": "code",
   "execution_count": 136,
   "metadata": {},
   "outputs": [
    {
     "name": "stdout",
     "output_type": "stream",
     "text": [
      "Ridge Best Params: {'alpha': 10.0, 'solver': 'auto'}\n",
      "Accuracy: 0.8041958041958042\n",
      "              precision    recall  f1-score   support\n",
      "\n",
      "           0       0.82      0.86      0.84        85\n",
      "           1       0.78      0.72      0.75        58\n",
      "\n",
      "    accuracy                           0.80       143\n",
      "   macro avg       0.80      0.79      0.79       143\n",
      "weighted avg       0.80      0.80      0.80       143\n",
      "\n"
     ]
    }
   ],
   "source": [
    "param_grid = {\n",
    "    'alpha': [0.01, 0.1, 1.0, 10.0],\n",
    "    'solver': ['auto', 'saga']\n",
    "}\n",
    "grid = GridSearchCV(RidgeClassifier(), param_grid, cv=5, scoring='accuracy')\n",
    "grid.fit(X_train, y_train)\n",
    "\n",
    "print(\"Ridge Best Params:\", grid.best_params_)\n",
    "y_pred = grid.best_estimator_.predict(X_test)\n",
    "print(\"Accuracy:\", accuracy_score(y_test, y_pred))\n",
    "print(classification_report(y_test, y_pred))"
   ]
  },
  {
   "cell_type": "markdown",
   "metadata": {},
   "source": [
    "#### Gaussian Naive Bayes"
   ]
  },
  {
   "cell_type": "code",
   "execution_count": 137,
   "metadata": {},
   "outputs": [
    {
     "name": "stdout",
     "output_type": "stream",
     "text": [
      "GNB Best Params: {'var_smoothing': np.float64(1e-09)}\n",
      "Accuracy: 0.7552447552447552\n",
      "              precision    recall  f1-score   support\n",
      "\n",
      "           0       0.82      0.75      0.79        85\n",
      "           1       0.68      0.76      0.72        58\n",
      "\n",
      "    accuracy                           0.76       143\n",
      "   macro avg       0.75      0.76      0.75       143\n",
      "weighted avg       0.76      0.76      0.76       143\n",
      "\n"
     ]
    }
   ],
   "source": [
    "param_grid = {\n",
    "    'var_smoothing': np.logspace(-9, -5, 5)\n",
    "}\n",
    "grid = GridSearchCV(GaussianNB(), param_grid, cv=5, scoring='accuracy')\n",
    "grid.fit(X_train, y_train)\n",
    "\n",
    "print(\"GNB Best Params:\", grid.best_params_)\n",
    "y_pred = grid.best_estimator_.predict(X_test)\n",
    "print(\"Accuracy:\", accuracy_score(y_test, y_pred))\n",
    "print(classification_report(y_test, y_pred))\n"
   ]
  },
  {
   "cell_type": "markdown",
   "metadata": {},
   "source": [
    "### **6. Model Comparison & Selection**  \n",
    "- Compare models and select the best-performing one based on metrics.  "
   ]
  },
  {
   "cell_type": "code",
   "execution_count": 15,
   "metadata": {},
   "outputs": [],
   "source": [
    "# Sample results DataFrame\n",
    "results = pd.DataFrame(columns=['Model', 'Accuracy', 'Precision', 'Recall', 'F1', 'AUC-ROC', 'Training Time', 'Hyperparameters'])\n",
    "\n",
    "# Example function to log results\n",
    "def log_results(model, model_name, X_train, X_test, y_train, y_test, params=None):\n",
    "    start_time = time.time()\n",
    "    model.fit(X_train, y_train)\n",
    "    y_pred = model.predict(X_test)\n",
    "    train_time = round(time.time() - start_time, 2)\n",
    "    results.loc[len(results)] = {\n",
    "        'Model': model_name,\n",
    "        'Accuracy': accuracy_score(y_test, y_pred),\n",
    "        'Precision': precision_score(y_test, y_pred),\n",
    "        'Recall': recall_score(y_test, y_pred),\n",
    "        'F1': f1_score(y_test, y_pred),\n",
    "        'AUC-ROC': roc_auc_score(y_test, y_pred),\n",
    "        'Training Time': train_time,\n",
    "        'Hyperparameters': params\n",
    "    }"
   ]
  },
  {
   "cell_type": "code",
   "execution_count": 18,
   "metadata": {},
   "outputs": [],
   "source": [
    "# Models with relevant parameters\n",
    "\n",
    "log_results(DecisionTreeClassifier(max_depth=5, min_samples_leaf=1, min_samples_split=10), \"Decision Tree\", X_train, X_test, y_train, y_test, {'max_depth': 5})\n",
    "\n",
    "log_results(RandomForestClassifier(n_estimators=200, max_depth=7), \"Random Forest\", X_train, X_test, y_train, y_test, {'n_estimators': 200, 'max_depth': 7})\n",
    "\n",
    "log_results(CatBoostClassifier(iterations=200, depth=6, learning_rate=0.1, verbose=0, cat_features=['Fare_Bin', 'Age_Bin', 'Family_Group']), \"CatBoost\", X_train, X_test, y_train, y_test, {'iterations': 200, 'depth': 6, 'learning_rate': 0.1})\n",
    "\n",
    "log_results(LogisticRegression(solver='lbfgs', max_iter=500), \"Logistic Regression\", X_train, X_test, y_train, y_test, {'solver': 'lbfgs', 'max_iter': 500})\n",
    "\n",
    "log_results(GaussianNB(), \"Naive Bayes\", X_train, X_test, y_train, y_test)\n",
    "\n",
    "log_results(KNeighborsClassifier(n_neighbors=5), \"K-Nearest Neighbors\", X_train, X_test, y_train, y_test, {'n_neighbors': 5})\n",
    "\n",
    "log_results(SVC(kernel='rbf', C=1.0, probability=True), \"Support Vector Machine\", X_train, X_test, y_train, y_test, {'kernel': 'rbf', 'C': 1.0})\n",
    "\n",
    "log_results(HistGradientBoostingClassifier(max_iter=200), \"HistGradientBoosting\", X_train, X_test, y_train, y_test, {'max_iter': 200})\n"
   ]
  },
  {
   "cell_type": "code",
   "execution_count": 19,
   "metadata": {},
   "outputs": [
    {
     "data": {
      "text/html": [
       "<div>\n",
       "<style scoped>\n",
       "    .dataframe tbody tr th:only-of-type {\n",
       "        vertical-align: middle;\n",
       "    }\n",
       "\n",
       "    .dataframe tbody tr th {\n",
       "        vertical-align: top;\n",
       "    }\n",
       "\n",
       "    .dataframe thead th {\n",
       "        text-align: right;\n",
       "    }\n",
       "</style>\n",
       "<table border=\"1\" class=\"dataframe\">\n",
       "  <thead>\n",
       "    <tr style=\"text-align: right;\">\n",
       "      <th></th>\n",
       "      <th>Model</th>\n",
       "      <th>Accuracy</th>\n",
       "      <th>Precision</th>\n",
       "      <th>Recall</th>\n",
       "      <th>F1</th>\n",
       "      <th>AUC-ROC</th>\n",
       "      <th>Training Time</th>\n",
       "      <th>Hyperparameters</th>\n",
       "    </tr>\n",
       "  </thead>\n",
       "  <tbody>\n",
       "    <tr>\n",
       "      <th>0</th>\n",
       "      <td>Decision Tree</td>\n",
       "      <td>0.790210</td>\n",
       "      <td>0.868421</td>\n",
       "      <td>0.568966</td>\n",
       "      <td>0.687500</td>\n",
       "      <td>0.755071</td>\n",
       "      <td>0.00</td>\n",
       "      <td>{'max_depth': 5}</td>\n",
       "    </tr>\n",
       "    <tr>\n",
       "      <th>1</th>\n",
       "      <td>Random Forest</td>\n",
       "      <td>0.783217</td>\n",
       "      <td>0.800000</td>\n",
       "      <td>0.620690</td>\n",
       "      <td>0.699029</td>\n",
       "      <td>0.757404</td>\n",
       "      <td>0.21</td>\n",
       "      <td>{'n_estimators': 200, 'max_depth': 7}</td>\n",
       "    </tr>\n",
       "    <tr>\n",
       "      <th>2</th>\n",
       "      <td>CatBoost</td>\n",
       "      <td>0.811189</td>\n",
       "      <td>0.781818</td>\n",
       "      <td>0.741379</td>\n",
       "      <td>0.761062</td>\n",
       "      <td>0.800101</td>\n",
       "      <td>6.31</td>\n",
       "      <td>{'iterations': 200, 'depth': 6, 'learning_rate...</td>\n",
       "    </tr>\n",
       "    <tr>\n",
       "      <th>3</th>\n",
       "      <td>Logistic Regression</td>\n",
       "      <td>0.783217</td>\n",
       "      <td>0.736842</td>\n",
       "      <td>0.724138</td>\n",
       "      <td>0.730435</td>\n",
       "      <td>0.773834</td>\n",
       "      <td>0.01</td>\n",
       "      <td>{'solver': 'lbfgs', 'max_iter': 500}</td>\n",
       "    </tr>\n",
       "    <tr>\n",
       "      <th>4</th>\n",
       "      <td>Naive Bayes</td>\n",
       "      <td>0.755245</td>\n",
       "      <td>0.676923</td>\n",
       "      <td>0.758621</td>\n",
       "      <td>0.715447</td>\n",
       "      <td>0.755781</td>\n",
       "      <td>0.00</td>\n",
       "      <td>None</td>\n",
       "    </tr>\n",
       "    <tr>\n",
       "      <th>5</th>\n",
       "      <td>K-Nearest Neighbors</td>\n",
       "      <td>0.790210</td>\n",
       "      <td>0.769231</td>\n",
       "      <td>0.689655</td>\n",
       "      <td>0.727273</td>\n",
       "      <td>0.774239</td>\n",
       "      <td>0.01</td>\n",
       "      <td>{'n_neighbors': 5}</td>\n",
       "    </tr>\n",
       "    <tr>\n",
       "      <th>6</th>\n",
       "      <td>Support Vector Machine</td>\n",
       "      <td>0.818182</td>\n",
       "      <td>0.863636</td>\n",
       "      <td>0.655172</td>\n",
       "      <td>0.745098</td>\n",
       "      <td>0.792292</td>\n",
       "      <td>0.04</td>\n",
       "      <td>{'kernel': 'rbf', 'C': 1.0}</td>\n",
       "    </tr>\n",
       "    <tr>\n",
       "      <th>7</th>\n",
       "      <td>HistGradientBoosting</td>\n",
       "      <td>0.804196</td>\n",
       "      <td>0.788462</td>\n",
       "      <td>0.706897</td>\n",
       "      <td>0.745455</td>\n",
       "      <td>0.788742</td>\n",
       "      <td>2.21</td>\n",
       "      <td>{'max_iter': 200}</td>\n",
       "    </tr>\n",
       "    <tr>\n",
       "      <th>8</th>\n",
       "      <td>Decision Tree</td>\n",
       "      <td>0.790210</td>\n",
       "      <td>0.888889</td>\n",
       "      <td>0.551724</td>\n",
       "      <td>0.680851</td>\n",
       "      <td>0.752333</td>\n",
       "      <td>0.00</td>\n",
       "      <td>{'max_depth': 5}</td>\n",
       "    </tr>\n",
       "    <tr>\n",
       "      <th>9</th>\n",
       "      <td>Random Forest</td>\n",
       "      <td>0.783217</td>\n",
       "      <td>0.800000</td>\n",
       "      <td>0.620690</td>\n",
       "      <td>0.699029</td>\n",
       "      <td>0.757404</td>\n",
       "      <td>0.21</td>\n",
       "      <td>{'n_estimators': 200, 'max_depth': 7}</td>\n",
       "    </tr>\n",
       "    <tr>\n",
       "      <th>10</th>\n",
       "      <td>CatBoost</td>\n",
       "      <td>0.811189</td>\n",
       "      <td>0.781818</td>\n",
       "      <td>0.741379</td>\n",
       "      <td>0.761062</td>\n",
       "      <td>0.800101</td>\n",
       "      <td>6.15</td>\n",
       "      <td>{'iterations': 200, 'depth': 6, 'learning_rate...</td>\n",
       "    </tr>\n",
       "    <tr>\n",
       "      <th>11</th>\n",
       "      <td>Logistic Regression</td>\n",
       "      <td>0.783217</td>\n",
       "      <td>0.736842</td>\n",
       "      <td>0.724138</td>\n",
       "      <td>0.730435</td>\n",
       "      <td>0.773834</td>\n",
       "      <td>0.01</td>\n",
       "      <td>{'solver': 'lbfgs', 'max_iter': 500}</td>\n",
       "    </tr>\n",
       "    <tr>\n",
       "      <th>12</th>\n",
       "      <td>Naive Bayes</td>\n",
       "      <td>0.755245</td>\n",
       "      <td>0.676923</td>\n",
       "      <td>0.758621</td>\n",
       "      <td>0.715447</td>\n",
       "      <td>0.755781</td>\n",
       "      <td>0.00</td>\n",
       "      <td>None</td>\n",
       "    </tr>\n",
       "    <tr>\n",
       "      <th>13</th>\n",
       "      <td>K-Nearest Neighbors</td>\n",
       "      <td>0.790210</td>\n",
       "      <td>0.769231</td>\n",
       "      <td>0.689655</td>\n",
       "      <td>0.727273</td>\n",
       "      <td>0.774239</td>\n",
       "      <td>0.00</td>\n",
       "      <td>{'n_neighbors': 5}</td>\n",
       "    </tr>\n",
       "    <tr>\n",
       "      <th>14</th>\n",
       "      <td>Support Vector Machine</td>\n",
       "      <td>0.818182</td>\n",
       "      <td>0.863636</td>\n",
       "      <td>0.655172</td>\n",
       "      <td>0.745098</td>\n",
       "      <td>0.792292</td>\n",
       "      <td>0.03</td>\n",
       "      <td>{'kernel': 'rbf', 'C': 1.0}</td>\n",
       "    </tr>\n",
       "    <tr>\n",
       "      <th>15</th>\n",
       "      <td>HistGradientBoosting</td>\n",
       "      <td>0.804196</td>\n",
       "      <td>0.788462</td>\n",
       "      <td>0.706897</td>\n",
       "      <td>0.745455</td>\n",
       "      <td>0.788742</td>\n",
       "      <td>0.21</td>\n",
       "      <td>{'max_iter': 200}</td>\n",
       "    </tr>\n",
       "  </tbody>\n",
       "</table>\n",
       "</div>"
      ],
      "text/plain": [
       "                     Model  Accuracy  Precision    Recall        F1   AUC-ROC  \\\n",
       "0            Decision Tree  0.790210   0.868421  0.568966  0.687500  0.755071   \n",
       "1            Random Forest  0.783217   0.800000  0.620690  0.699029  0.757404   \n",
       "2                 CatBoost  0.811189   0.781818  0.741379  0.761062  0.800101   \n",
       "3      Logistic Regression  0.783217   0.736842  0.724138  0.730435  0.773834   \n",
       "4              Naive Bayes  0.755245   0.676923  0.758621  0.715447  0.755781   \n",
       "5      K-Nearest Neighbors  0.790210   0.769231  0.689655  0.727273  0.774239   \n",
       "6   Support Vector Machine  0.818182   0.863636  0.655172  0.745098  0.792292   \n",
       "7     HistGradientBoosting  0.804196   0.788462  0.706897  0.745455  0.788742   \n",
       "8            Decision Tree  0.790210   0.888889  0.551724  0.680851  0.752333   \n",
       "9            Random Forest  0.783217   0.800000  0.620690  0.699029  0.757404   \n",
       "10                CatBoost  0.811189   0.781818  0.741379  0.761062  0.800101   \n",
       "11     Logistic Regression  0.783217   0.736842  0.724138  0.730435  0.773834   \n",
       "12             Naive Bayes  0.755245   0.676923  0.758621  0.715447  0.755781   \n",
       "13     K-Nearest Neighbors  0.790210   0.769231  0.689655  0.727273  0.774239   \n",
       "14  Support Vector Machine  0.818182   0.863636  0.655172  0.745098  0.792292   \n",
       "15    HistGradientBoosting  0.804196   0.788462  0.706897  0.745455  0.788742   \n",
       "\n",
       "    Training Time                                    Hyperparameters  \n",
       "0            0.00                                   {'max_depth': 5}  \n",
       "1            0.21              {'n_estimators': 200, 'max_depth': 7}  \n",
       "2            6.31  {'iterations': 200, 'depth': 6, 'learning_rate...  \n",
       "3            0.01               {'solver': 'lbfgs', 'max_iter': 500}  \n",
       "4            0.00                                               None  \n",
       "5            0.01                                 {'n_neighbors': 5}  \n",
       "6            0.04                        {'kernel': 'rbf', 'C': 1.0}  \n",
       "7            2.21                                  {'max_iter': 200}  \n",
       "8            0.00                                   {'max_depth': 5}  \n",
       "9            0.21              {'n_estimators': 200, 'max_depth': 7}  \n",
       "10           6.15  {'iterations': 200, 'depth': 6, 'learning_rate...  \n",
       "11           0.01               {'solver': 'lbfgs', 'max_iter': 500}  \n",
       "12           0.00                                               None  \n",
       "13           0.00                                 {'n_neighbors': 5}  \n",
       "14           0.03                        {'kernel': 'rbf', 'C': 1.0}  \n",
       "15           0.21                                  {'max_iter': 200}  "
      ]
     },
     "execution_count": 19,
     "metadata": {},
     "output_type": "execute_result"
    }
   ],
   "source": [
    "results"
   ]
  },
  {
   "cell_type": "markdown",
   "metadata": {},
   "source": [
    "### 7. Final Model & Predictions**  \n",
    "- Train the selected model on the full dataset.  \n",
    "- Generate predictions on the test dataset. "
   ]
  },
  {
   "cell_type": "code",
   "execution_count": 20,
   "metadata": {},
   "outputs": [],
   "source": [
    "train_df = df"
   ]
  },
  {
   "cell_type": "code",
   "execution_count": 21,
   "metadata": {},
   "outputs": [
    {
     "name": "stdout",
     "output_type": "stream",
     "text": [
      "<class 'pandas.core.frame.DataFrame'>\n",
      "RangeIndex: 712 entries, 0 to 711\n",
      "Data columns (total 8 columns):\n",
      " #   Column        Non-Null Count  Dtype\n",
      "---  ------        --------------  -----\n",
      " 0   Survived      712 non-null    int64\n",
      " 1   Pclass        712 non-null    int64\n",
      " 2   Sex_male      712 non-null    bool \n",
      " 3   Embarked_Q    712 non-null    bool \n",
      " 4   Embarked_S    712 non-null    bool \n",
      " 5   Fare_Bin      712 non-null    int64\n",
      " 6   Age_Bin       712 non-null    int64\n",
      " 7   Family_Group  712 non-null    int64\n",
      "dtypes: bool(3), int64(5)\n",
      "memory usage: 30.0 KB\n"
     ]
    }
   ],
   "source": [
    "train_df.info()"
   ]
  },
  {
   "cell_type": "code",
   "execution_count": 22,
   "metadata": {},
   "outputs": [
    {
     "name": "stdout",
     "output_type": "stream",
     "text": [
      "<class 'pandas.core.frame.DataFrame'>\n",
      "RangeIndex: 331 entries, 0 to 330\n",
      "Data columns (total 7 columns):\n",
      " #   Column        Non-Null Count  Dtype\n",
      "---  ------        --------------  -----\n",
      " 0   Pclass        331 non-null    int64\n",
      " 1   Sex_male      331 non-null    bool \n",
      " 2   Embarked_Q    331 non-null    bool \n",
      " 3   Embarked_S    331 non-null    bool \n",
      " 4   Fare_Bin      331 non-null    int64\n",
      " 5   Age_Bin       331 non-null    int64\n",
      " 6   Family_Group  331 non-null    int64\n",
      "dtypes: bool(3), int64(4)\n",
      "memory usage: 11.4 KB\n"
     ]
    }
   ],
   "source": [
    "test_df.info()"
   ]
  },
  {
   "cell_type": "code",
   "execution_count": 23,
   "metadata": {},
   "outputs": [],
   "source": [
    "X_train = train_df.drop(['Survived'], axis=1)\n",
    "y_train = train_df['Survived']\n",
    "\n",
    "X_test = test_df"
   ]
  },
  {
   "cell_type": "code",
   "execution_count": 24,
   "metadata": {},
   "outputs": [
    {
     "name": "stdout",
     "output_type": "stream",
     "text": [
      "(712, 7)\n",
      "(712,)\n",
      "(331, 7)\n"
     ]
    }
   ],
   "source": [
    "print(X_train.shape)\n",
    "print(y_train.shape)\n",
    "\n",
    "print(X_test.shape)"
   ]
  },
  {
   "cell_type": "code",
   "execution_count": 25,
   "metadata": {},
   "outputs": [],
   "source": [
    "model = RandomForestClassifier(n_estimators=200, max_depth=5) # test with 5 too\n",
    "\n",
    "model.fit(X_train, y_train)\n",
    "y_pred = model.predict(X_test)\n"
   ]
  },
  {
   "cell_type": "code",
   "execution_count": 26,
   "metadata": {},
   "outputs": [
    {
     "name": "stdout",
     "output_type": "stream",
     "text": [
      "(331,)\n"
     ]
    }
   ],
   "source": [
    "print(y_pred.shape)"
   ]
  },
  {
   "cell_type": "code",
   "execution_count": 27,
   "metadata": {},
   "outputs": [
    {
     "data": {
      "text/plain": [
       "numpy.ndarray"
      ]
     },
     "execution_count": 27,
     "metadata": {},
     "output_type": "execute_result"
    }
   ],
   "source": [
    "type(y_pred)"
   ]
  },
  {
   "cell_type": "code",
   "execution_count": 28,
   "metadata": {},
   "outputs": [],
   "source": [
    "submission_df = pd.DataFrame({\n",
    "    'PassengerId': test_passenger_id,\n",
    "    'Survived': y_pred.astype(int)  # Ensure it's integer (0 or 1)\n",
    "})\n",
    "\n",
    "submission_df.to_csv(\"final_predictions2.csv\", index=False)"
   ]
  },
  {
   "cell_type": "code",
   "execution_count": 29,
   "metadata": {},
   "outputs": [
    {
     "name": "stdout",
     "output_type": "stream",
     "text": [
      "y_pred.shape:  (331,)\n"
     ]
    }
   ],
   "source": [
    "model = RandomForestClassifier(n_estimators=200, max_depth=5) # test with 5 too\n",
    "\n",
    "model.fit(X_train, y_train)\n",
    "y_pred = model.predict(X_test)\n",
    "\n",
    "print(\"y_pred.shape: \", y_pred.shape)\n",
    "\n",
    "submission_df = pd.DataFrame({\n",
    "    'PassengerId': test_passenger_id,\n",
    "    'Survived': y_pred.astype(int)  # Ensure it's integer (0 or 1)\n",
    "})\n",
    "\n",
    "submission_df.to_csv(\"final_predictions3.csv\", index=False)"
   ]
  }
 ],
 "metadata": {
  "kernelspec": {
   "display_name": "ml-venv",
   "language": "python",
   "name": "python3"
  },
  "language_info": {
   "codemirror_mode": {
    "name": "ipython",
    "version": 3
   },
   "file_extension": ".py",
   "mimetype": "text/x-python",
   "name": "python",
   "nbconvert_exporter": "python",
   "pygments_lexer": "ipython3",
   "version": "3.11.9"
  }
 },
 "nbformat": 4,
 "nbformat_minor": 2
}
